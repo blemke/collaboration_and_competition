{
 "cells": [
  {
   "cell_type": "markdown",
   "metadata": {},
   "source": [
    "\n",
    "This repository uses the Deep Deterministic Policy Gradients (DDPG) algorithm. The algorthm is described here: https://arxiv.org/abs/1509.02971.  Two agents were instiatiated to play against eachother, but they shared a common memory of all events. \n",
    "\n",
    "The network archtecture for both the Actor and Crtic DNNs have 2 fully connected hidden layers of size (256, 256) with relu activation functions.\n",
    "\n",
    "The Hyperparameters are:\n",
    "\n",
    "BUFFER_SIZE = int(1e6) # replay buffer size\n",
    "\n",
    "BATCH_SIZE = 256 # minibatch size\n",
    "\n",
    "GAMMA = 0.99 # discount factor\n",
    "\n",
    "TAU = 1e-2 # for soft update of target parameters\n",
    "\n",
    "LR_ACTOR = 1e-4 # learning rate of the actor\n",
    "\n",
    "LR_CRITIC = 1e-4 # learning rate of the critic\n",
    "\n",
    "WEIGHT_DECAY = 0.0 # L2 weight decay\n",
    "\n",
    "max_t = 1000 # Maximum number of time steps per episode\n",
    "\n",
    "The problem was solved after 1869 episodes as shown in the graph below."
   ]
  },
  {
   "cell_type": "markdown",
   "metadata": {},
   "source": [
    "![](tennis_learning_progress.png)"
   ]
  },
  {
   "cell_type": "markdown",
   "metadata": {},
   "source": [
    "Future work could be done on carefully exploring the ideal combination of parameters.  Also, implementations of MADDPG could be run for comparison."
   ]
  },
  {
   "cell_type": "code",
   "execution_count": null,
   "metadata": {},
   "outputs": [],
   "source": []
  }
 ],
 "metadata": {
  "kernelspec": {
   "display_name": "Python 3",
   "language": "python",
   "name": "python3"
  },
  "language_info": {
   "codemirror_mode": {
    "name": "ipython",
    "version": 3
   },
   "file_extension": ".py",
   "mimetype": "text/x-python",
   "name": "python",
   "nbconvert_exporter": "python",
   "pygments_lexer": "ipython3",
   "version": "3.6.7"
  }
 },
 "nbformat": 4,
 "nbformat_minor": 2
}
